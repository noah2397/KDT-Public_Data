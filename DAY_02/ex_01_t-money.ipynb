{
 "cells": [
  {
   "cell_type": "code",
   "execution_count": 7,
   "metadata": {},
   "outputs": [
    {
     "name": "stdout",
     "output_type": "stream",
     "text": [
      "['사용월', '호선명', '역ID', '지하철역', '유임승차', '유임하차', '무임승차', '무임하차']\n",
      "['2023-12', '1호선', '0150', '서울역', '1442704 ', '1404121 ', '211843 ', '203808 ']\n",
      "['2023-12', '1호선', '0151', '시청', '696784 ', '684254 ', '99882 ', '98107 ']\n",
      "['2023-12', '1호선', '0152', '종각', '1010849 ', '985165 ', '162696 ', '152064 ']\n",
      "['2023-12', '1호선', '0153', '종로3가', '488467 ', '450427 ', '310689 ', '286850 ']\n",
      "['2023-12', '1호선', '0154', '종로5가', '483866 ', '476917 ', '246504 ', '239266 ']\n",
      "['2023-12', '1호선', '0155', '동대문', '236114 ', '228110 ', '128542 ', '127639 ']\n"
     ]
    }
   ],
   "source": [
    "import\tcsv\n",
    "f=open('subwayfee.csv',\tencoding='utf-8-sig')\n",
    "data=csv.reader(f)\n",
    "header=\tnext(data) # 열 이름 읽어서 header 변수에 저장하기\n",
    "print(header) # 열 이름 출력\n",
    "i =\t1\n",
    "for\trow\tin\tdata:\n",
    "\tprint(row)\n",
    "\tif\ti >\t5: # 5 줄 출력\n",
    "\t\tbreak\n",
    "\ti +=\t1\n",
    "f.close()"
   ]
  },
  {
   "cell_type": "code",
   "execution_count": 8,
   "metadata": {},
   "outputs": [
    {
     "ename": "ZeroDivisionError",
     "evalue": "division by zero",
     "output_type": "error",
     "traceback": [
      "\u001b[1;31m---------------------------------------------------------------------------\u001b[0m",
      "\u001b[1;31mZeroDivisionError\u001b[0m                         Traceback (most recent call last)",
      "Cell \u001b[1;32mIn[8], line 12\u001b[0m\n\u001b[0;32m     10\u001b[0m \u001b[38;5;28;01mfor\u001b[39;00m\ti \u001b[38;5;129;01min\u001b[39;00m \u001b[38;5;28mrange\u001b[39m(\u001b[38;5;241m4\u001b[39m,\u001b[38;5;241m8\u001b[39m): \u001b[38;5;66;03m# 유임승차[4], 유임하차[5], 무임승차[6], 무임하차[7] 열 순번\u001b[39;00m\n\u001b[0;32m     11\u001b[0m \trow[i]\u001b[38;5;241m=\u001b[39m \u001b[38;5;28mint\u001b[39m(row[i])\t\u001b[38;5;66;03m#\t4,5,6,7\t컬럼 값을 정수로 변환\u001b[39;00m\n\u001b[1;32m---> 12\u001b[0m rate\u001b[38;5;241m=\u001b[39m\u001b[43mrow\u001b[49m\u001b[43m[\u001b[49m\u001b[38;5;241;43m4\u001b[39;49m\u001b[43m]\u001b[49m\u001b[38;5;241;43m/\u001b[39;49m\u001b[43mrow\u001b[49m\u001b[43m[\u001b[49m\u001b[38;5;241;43m6\u001b[39;49m\u001b[43m]\u001b[49m\t \u001b[38;5;66;03m#[6]컬럼의 값이 0인 행 확인 용도\u001b[39;00m\n\u001b[0;32m     13\u001b[0m \u001b[38;5;28;01mif\u001b[39;00m\trate\u001b[38;5;241m>\u001b[39mmax_rate:\n\u001b[0;32m     14\u001b[0m \tmax_rate \u001b[38;5;241m=\u001b[39mrate\n",
      "\u001b[1;31mZeroDivisionError\u001b[0m: division by zero"
     ]
    }
   ],
   "source": [
    "# 전체 탑승 인원 대비 유임 승차 비율이 가장 높은 역은?\n",
    "\n",
    "import\tcsv\n",
    "f=open('subwayfee.csv',encoding='utf-8-sig')\n",
    "data=csv.reader(f)\n",
    "header=\tnext(data) # 열 이름을 저장하고 출력하지는 않는다\n",
    "max_rate=0\n",
    "rate=0\n",
    "for\trow\tin\tdata:\n",
    "\tfor\ti in range(4,8): # 유임승차[4], 유임하차[5], 무임승차[6], 무임하차[7] 열 순번\n",
    "\t\trow[i]= int(row[i])\t#\t4,5,6,7\t컬럼 값을 정수로 변환\n",
    "\trate=row[4]/row[6]\t #[6]컬럼의 값이 0인 행 확인 용도\n",
    "\tif\trate>max_rate:\n",
    "\t\tmax_rate =rate\n",
    "print(max_rate)\n",
    "f.close()"
   ]
  },
  {
   "cell_type": "code",
   "execution_count": 11,
   "metadata": {},
   "outputs": [
    {
     "name": "stdout",
     "output_type": "stream",
     "text": [
      "['2023-12', '일산선', '1949', '지축', 8, 0, 0, 0]\n",
      "['2023-12', '경의선', '1295', '김포공항', 1, 0, 0, 0]\n",
      "['2023-12', '6호선', '2649', '신내', 10, 0, 0, 0]\n",
      "['2023-12', '7호선', '2755', '춘의', 1, 0, 0, 0]\n",
      "['2023-12', '7호선', '2756', '신중동', 1, 0, 0, 0]\n",
      "['2023-12', '7호선', '2760', '굴포천', 1, 0, 0, 0]\n"
     ]
    }
   ],
   "source": [
    "# 전체 탑승 인원 대비 유임 승차 비율이 가장 높은 역은?\n",
    "#무임승차 인원이 0인 역 찾기 #1\n",
    "import\tcsv\n",
    "f=open('subwayfee.csv',encoding='utf-8-sig')\n",
    "data=csv.reader(f)\n",
    "header=\tnext(data) # 열 이름을 저장하고 출력하지는 않는다\n",
    "max_rate=0\n",
    "rate=0\n",
    "for\trow\tin\tdata:\n",
    "    for\ti in range(4,8): # 유임승차[4], 유임하차[5], 무임승차[6], 무임하차[7] 열 순번\n",
    "        row[i]= int(row[i])\t#\t4,5,6,7\t컬럼 값을 정수로 변환\n",
    "    rate=row[4]/(row[4]+row[6])\t #[6]컬럼의 값이 0인 행 확인 용도\n",
    "    if\trow[6]==0 :\n",
    "        print(row)\n",
    "\n",
    "f.close()"
   ]
  },
  {
   "cell_type": "code",
   "execution_count": 13,
   "metadata": {},
   "outputs": [
    {
     "name": "stdout",
     "output_type": "stream",
     "text": [
      "['2023-12', '1호선', '0150', '서울역', 1442704, 1404121, 211843, 203808] 12.8 %\n",
      "['2023-12', '1호선', '0152', '종각', 1010849, 985165, 162696, 152064] 13.86 %\n",
      "['2023-12', '1호선', '0153', '종로3가', 488467, 450427, 310689, 286850] 38.88 %\n",
      "['2023-12', '1호선', '0157', '제기동', 231358, 219338, 256218, 272510] 52.55 %\n",
      "['2023-12', '경원선', '1916', '소요산', 22856, 19642, 40555, 37554] 63.96 %\n",
      "['2023-12', '경원선', '1919', '연천', 10626, 10601, 20838, 21191] 66.23 %\n"
     ]
    }
   ],
   "source": [
    "# 최대 무임 승차 비율 확인\n",
    "import\tcsv\n",
    "f=open('subwayfee.csv',\tencoding='utf-8-sig')\n",
    "data=csv.reader(f)\n",
    "header=\tnext(data)\n",
    "max_rate = 0\n",
    "for\trow\tin\tdata:\n",
    "\tfor\ti in range(4,\t8):\n",
    "\t\trow[i]\t=int(row[i])\t#4,5,6,7 컬럼 값을 정수로 변환\n",
    "\tif\trow[6]\t!=\t0:\n",
    "\t\t#\t무임 승차 (%)=(무임 승차 수 x100)/(유임 승차 수 +무임 승차 수)\n",
    "\t\trate=(row[6]*100)/(row[4]+row[6])\n",
    "\t\tif\trate>max_rate:\n",
    "\t\t\tmax_rate =rate\n",
    "\t\t\tprint(row,round(rate,2),'%')\n",
    "f.close()"
   ]
  },
  {
   "cell_type": "code",
   "execution_count": 16,
   "metadata": {},
   "outputs": [
    {
     "name": "stdout",
     "output_type": "stream",
     "text": [
      "\n",
      "호선명:\t공항철도 1호선,\t역이름:\t홍대입구,\t전체 인원:\t464,662명,\t유임승차인원:\t444,277명,\t유임승차 비율:\t95.61%\n"
     ]
    }
   ],
   "source": [
    "# 최대 유임 승차 인원이 있는 역은? #2\n",
    "\n",
    "import\tcsv\n",
    "f=open('subwayfee.csv',\tencoding='utf-8-sig')\n",
    "data=csv.reader(f)\n",
    "next(data)\n",
    "max_rate =\t0\n",
    "max_row =[]\n",
    "max_total_num =\t0\n",
    "for\trow\tin\tdata:\n",
    "    for\ti in range(4,8)\t:\n",
    "        row[i]=int(row[i])\n",
    "    total_count =row[4]\t+row[6]\t#\t유임승차수 +무임승차수\n",
    "    if\t(row[6]\t!=0) and (total_count >100000): # 10만명이 넘게 승,하차 하는 역에서 유임 승차 비율이 제일 높은 역은?\n",
    "                                                # 유동 인구가 많은 지하철 역 중에서 비교한다!\n",
    "        rate=row[4]/total_count\n",
    "        if\trate>max_rate :\n",
    "            max_rate =rate\n",
    "            max_row =row\n",
    "            max_total_num =\ttotal_count\n",
    "print()\n",
    "print(f\"호선명:\t{max_row[1]},\t역이름:\t{max_row[3]},\t전체 인원:\t{max_total_num:,}명,\t\"\n",
    "f\"유임승차인원:\t{max_row[4]:,}명,\t유임승차 비율:\t{round(max_rate *\t100,\t2):,}%\")\n",
    "f.close()"
   ]
  },
  {
   "cell_type": "code",
   "execution_count": 19,
   "metadata": {},
   "outputs": [
    {
     "name": "stdout",
     "output_type": "stream",
     "text": [
      "['사용월', '호선명', '역ID', '지하철역', '유임승차', '유임하차', '무임승차', '무임하차']\n",
      "['2023-12', '1호선', '0157', '제기동', 231358, '219338 ', 256218, '272510 '] 0.47\n",
      "['2023-12', '1호선', '0159', '동묘앞', 144443, '150931 ', 146515, '148571 '] 0.5\n",
      "['2023-12', '경원선', '1916', '소요산', 22856, '19642 ', 40555, '37554 '] 0.36\n",
      "['2023-12', '경원선', '1919', '연천', 10626, '10601 ', 20838, '21191 '] 0.34\n",
      "['2023-12', '중앙선', '1218', '원덕', 4951, '4673 ', 5471, '5273 '] 0.48\n",
      "\n",
      "유임 승차 비율이 가장 낮은 역:\t연천\n",
      "전체 인원:31,464명,유임승차인원:10,626명,유임승차비율:33.8%\n"
     ]
    },
    {
     "data": {
      "image/png": "[encoded data removed]",
      "text/plain": [
       "<Figure size 640x480 with 1 Axes>"
      ]
     },
     "metadata": {},
     "output_type": "display_data"
    }
   ],
   "source": [
    "# 유임 승차 비율이 50% 이하인 역\n",
    "# 서울 지하철 노선에서 유임 승차 비율이 50% 이하이고,\n",
    "# 총 승차 인원이 10,000명 이상을 모두 출력\n",
    "# 유임 승차 비율이 가장 낮은 역의 비율을 파이 차트로 표시하시오\n",
    "import\tcsv\n",
    "import\tmatplotlib.pyplot as plt\n",
    "import\tplatform\n",
    "\n",
    "f=open('subwayfee.csv',\tencoding='utf-8-sig')\n",
    "data=csv.reader(f)\n",
    "header=next(data)\n",
    "print(header) # 열 이름 출력\n",
    "min_rate =100 # 최소 비율을 100으로 제일 높게 설정\n",
    "min_row =[] # 최소 비율에 해당하는 행 값\n",
    "min_total_count =0\n",
    "for\trow\tin\tdata:\n",
    "    for\ti in [4,6]: # 유임승차[4]랑 무임승차[6] 열의 값만 읽어옴\n",
    "        row[i]=int(row[i])\n",
    "    total_count =row[4]\t+row[6] # 총 탑승 인수를 계산\n",
    "    if\t(row[6]\t!=\t0)\tand\t(total_count >=\t10000):\t #무임승차 인원이 없고,총 승차인원이 1만명 이상인 경우만 들어옴\n",
    "        rate=row[4]\t/total_count # 비율을 구함\n",
    "        if\trate<=\t0.5: # 비율이 50% 이하라면\n",
    "            print(row,\tround(rate,\t2)) # 해당 행의 값과 비율을 반올림하여 출력\n",
    "            if\trate<min_rate: # 최솟값 갱신\n",
    "                min_rate =rate\n",
    "                min_row =row\n",
    "                min_total_count =total_count\n",
    "f.close()\n",
    "print()\n",
    "print(f'유임 승차 비율이 가장 낮은 역:\t{min_row[3]}') # 지하철역 출력\n",
    "print(f'전체 인원:{min_total_count:,}명,'\n",
    "\t\t\t\t\t\tf'유임승차인원:{min_row[4]:,}명,'\n",
    "\t\t\t\t\t\tf'유임승차비율:{round(min_rate*100,\t1)}%')\n",
    "if\tplatform.system()=='Windows':\n",
    "    plt.rc('font',\tfamily='Malgun Gothic')\n",
    "else:\n",
    "    plt.rc('font',\tfamily='AppleGothic')\n",
    "    \n",
    "plt.title(min_row[3]\t+\t\"역 유,무임 승차 비율\") # 지하철역 출력\n",
    "label=['유임승차','무임승차']\n",
    "values=[min_row[4],min_row[6]]\n",
    "plt.pie(values,\tlabels=label,autopct='%.1f%%') # 퍼센테이지 자동 계산 (%, .1f,  %%  => 지정서식용 %, 소수점 1자리까지 출력, \"%\" 출력)\n",
    "plt.legend(loc=2)\n",
    "plt.show()"
   ]
  },
  {
   "cell_type": "code",
   "execution_count": 22,
   "metadata": {},
   "outputs": [
    {
     "name": "stdout",
     "output_type": "stream",
     "text": [
      "유임승차: 잠실(송파구청) 2호선 2,407,622명\n",
      "유임하차: 잠실(송파구청) 2호선 2,389,008명\n",
      "무임승차: 종로3가 1호선 310,689명\n",
      "무임하차: 영등포 경부선 307,586명\n"
     ]
    }
   ],
   "source": [
    "# 모든 역의 유임승차, 유임하차, 무임승차, 무임하차 인원 분석\n",
    "import csv\n",
    "max=[0]*4\n",
    "max_station=['']*4\n",
    "label=[\"유임승차\",\"유임하차\", \"무임승차\", \"무임하차\"]\n",
    "\n",
    "#with 구문 : 자동으로 파일을 close() 시킴\n",
    "with open('subwayfee.csv', 'r', encoding='utf-8') as f:\n",
    "    data=csv.reader(f)\n",
    "    next(data)\n",
    "    for row in data:\n",
    "        for i in range(4,8):\n",
    "            row[i]=int(row[i])\n",
    "            if row[i]>max[i-4]: # 4-8 -> 0-4로 인덱스 변환 필요\n",
    "                max[i-4]=row[i] # 최댓값 갱신\n",
    "                max_station[i-4]=row[3]+\" \"+row[1] # 지하철명 + 호선명 출력\n",
    "for i in range(4) :\n",
    "    print(f'{label[i]}: {max_station[i]} {max[i]:,}명') # :, 으로 세 자릿수마다 쉼표 출력"
   ]
  },
  {
   "cell_type": "code",
   "execution_count": 33,
   "metadata": {},
   "outputs": [
    {
     "name": "stdout",
     "output_type": "stream",
     "text": [
      "['2023-12', '1호선', '0150', '서울역', 1442704, 1404121, 211843, 203808]\n",
      "['2023-12', '1호선', '0151', '시청', 696784, 684254, 99882, 98107]\n",
      "['2023-12', '1호선', '0152', '종각', 1010849, 985165, 162696, 152064]\n",
      "['2023-12', '1호선', '0153', '종로3가', 488467, 450427, 310689, 286850]\n",
      "['2023-12', '1호선', '0154', '종로5가', 483866, 476917, 246504, 239266]\n"
     ]
    },
    {
     "name": "stderr",
     "output_type": "stream",
     "text": [
      "C:\\Users\\mathn\\AppData\\Local\\Temp\\ipykernel_33348\\318946348.py:22: UserWarning: Glyph 9 (\t) missing from current font.\n",
      "  plt.savefig('img/'+row[3]+row[1]+'.png')\n"
     ]
    },
    {
     "name": "stdout",
     "output_type": "stream",
     "text": [
      "['2023-12', '1호선', '0155', '동대문', 236114, 228110, 128542, 127639]\n",
      "['2023-12', '1호선', '0156', '신설동', 289402, 276992, 120282, 116775]\n",
      "['2023-12', '1호선', '0157', '제기동', 231358, 219338, 256218, 272510]\n",
      "['2023-12', '1호선', '0158', '청량리(서울시립대입구)', 380606, 372443, 274847, 276209]\n",
      "['2023-12', '1호선', '0159', '동묘앞', 144443, 150931, 146515, 148571]\n"
     ]
    }
   ],
   "source": [
    "import\tcsv\n",
    "import\tmatplotlib.pyplot as\tplt\n",
    "import\tplatform\n",
    "import  koreanize_matplotlib\n",
    "label=['유임승차',\t'유임하차',\t'무임승차',\t'무임하차']\n",
    "color_list =['#ff9999',\t'#ffc000',\t'#8fd9b6',\t'#d395d0']\t #\t파이 차트 컬러 값\n",
    "pic_count =\t0\n",
    "with open('subwayfee.csv',\tencoding='utf-8-sig')\tas\tf:\n",
    "    data=csv.reader(f)\n",
    "    next(data)\n",
    "    if(platform.system()==\t'Windows'):\n",
    "        plt.rc('font',family='Malgun Gothic')\n",
    "    else:\n",
    "        plt.rc('font',family='AppleGothic')\n",
    "    for\trow\tin\tdata:\n",
    "        for\ti in range(4,8):\n",
    "            row[i]\t=int(row[i])\n",
    "        print(row)\n",
    "        plt.figure(dpi=100)\t#저장할 그림파일의 dpi\t설정\n",
    "        plt.title(row[3]\t+\t'\t'\t+\trow[1])\n",
    "        plt.pie(row[4:8],labels=label,colors=color_list,autopct ='%.1f%%',shadow=True)\n",
    "        plt.savefig('img/'+row[3]+row[1]+'.png')\n",
    "        plt.close()\t#파일 닫기 -> savefig로 이미지를 생성했기 때문에 닫아줘야 한다\n",
    "        pic_count +=1\n",
    "        if\tpic_count >=10:\n",
    "            break"
   ]
  },
  {
   "cell_type": "code",
   "execution_count": null,
   "metadata": {},
   "outputs": [],
   "source": []
  }
 ],
 "metadata": {
  "kernelspec": {
   "display_name": "My_38",
   "language": "python",
   "name": "python3"
  },
  "language_info": {
   "codemirror_mode": {
    "name": "ipython",
    "version": 3
   },
   "file_extension": ".py",
   "mimetype": "text/x-python",
   "name": "python",
   "nbconvert_exporter": "python",
   "pygments_lexer": "ipython3",
   "version": "3.8.18"
  }
 },
 "nbformat": 4,
 "nbformat_minor": 2
}
