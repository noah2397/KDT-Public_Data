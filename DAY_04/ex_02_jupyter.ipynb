{
 "cells": [
  {
   "cell_type": "code",
   "execution_count": 1,
   "metadata": {},
   "outputs": [
    {
     "data": {
      "text/plain": [
       "'c:\\\\Users\\\\mathn\\\\Desktop\\\\Public_Data\\\\KDT-Public_Data\\\\DAY_04'"
      ]
     },
     "execution_count": 1,
     "metadata": {},
     "output_type": "execute_result"
    }
   ],
   "source": [
    "%pwd # 현재 경로를 보여줌"
   ]
  },
  {
   "cell_type": "code",
   "execution_count": 2,
   "metadata": {},
   "outputs": [
    {
     "name": "stdout",
     "output_type": "stream",
     "text": [
      " C ����̺��� ����: Windows-SSD\n",
      " ���� �Ϸ� ��ȣ: E054-E3DC\n",
      "\n",
      " c:\\Users\\mathn\\Desktop\\Public_Data\\KDT-Public_Data\\DAY_04 ���͸�\n",
      "\n",
      "2024-01-29  ���� 11:10    <DIR>          .\n",
      "2024-01-29  ���� 08:52    <DIR>          ..\n",
      "2024-01-29  ���� 11:09           456,601 ex_01.ipynb\n",
      "2024-01-29  ���� 11:10               363 ex_02_jupyter.ipynb\n",
      "2024-01-29  ���� 08:49            29,538 lambda_example.ipynb\n",
      "2024-01-29  ���� 09:49            17,409 preprocessing.ipynb\n",
      "2024-01-29  ���� 11:01             1,788 preprocessing.py\n",
      "2024-01-29  ���� 09:18            56,912 ���������Ƿ�����Ȳ.csv\n",
      "2024-01-29  ���� 09:20             5,356 ���������ñ����������α���.csv\n",
      "2024-01-29  ���� 11:02            13,673 ���������ñ����������α���.xlsx\n",
      "2024-01-29  ���� 11:01             9,062 ���������õ��������α���.csv\n",
      "               9�� ����             590,702 ����Ʈ\n",
      "               2�� ���͸�  448,379,260,928 ����Ʈ ����\n"
     ]
    }
   ],
   "source": [
    "%ls # 현재 경로에 있는 파일들을 보여줌"
   ]
  },
  {
   "cell_type": "code",
   "execution_count": 3,
   "metadata": {},
   "outputs": [
    {
     "name": "stderr",
     "output_type": "stream",
     "text": [
      "UsageError: Line magic function `%--version` not found.\n"
     ]
    }
   ],
   "source": []
  },
  {
   "cell_type": "code",
   "execution_count": null,
   "metadata": {},
   "outputs": [],
   "source": []
  }
 ],
 "metadata": {
  "kernelspec": {
   "display_name": "My_38",
   "language": "python",
   "name": "python3"
  },
  "language_info": {
   "codemirror_mode": {
    "name": "ipython",
    "version": 3
   },
   "file_extension": ".py",
   "mimetype": "text/x-python",
   "name": "python",
   "nbconvert_exporter": "python",
   "pygments_lexer": "ipython3",
   "version": "3.8.18"
  }
 },
 "nbformat": 4,
 "nbformat_minor": 2
}
