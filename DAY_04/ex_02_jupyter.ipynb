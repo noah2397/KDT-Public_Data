{
 "cells": [
  {
   "cell_type": "code",
   "execution_count": 10,
   "metadata": {},
   "outputs": [
    {
     "data": {
      "text/plain": [
       "'c:\\\\Users\\\\mathn\\\\Desktop\\\\Public_Data\\\\KDT-Public_Data\\\\DAY_04'"
      ]
     },
     "execution_count": 10,
     "metadata": {},
     "output_type": "execute_result"
    }
   ],
   "source": [
    "%pwd # 현재 경로를 보여줌"
   ]
  },
  {
   "cell_type": "code",
   "execution_count": 11,
   "metadata": {},
   "outputs": [
    {
     "name": "stdout",
     "output_type": "stream",
     "text": [
      " C ����̺��� ����: Windows-SSD\n",
      " ���� �Ϸ� ��ȣ: E054-E3DC\n",
      "\n",
      " c:\\Users\\mathn\\Desktop\\Public_Data\\KDT-Public_Data\\DAY_04 ���͸�\n",
      "\n",
      "\n",
      " c:\\Users\\mathn\\Desktop\\Public_Data\\KDT-Public_Data\\DAY_04 ���͸�\n",
      "\n",
      "\n",
      " c:\\Users\\mathn\\Desktop\\Public_Data\\KDT-Public_Data\\DAY_04 ���͸�\n",
      "\n",
      "\n",
      " c:\\Users\\mathn\\Desktop\\Public_Data\\KDT-Public_Data\\DAY_04 ���͸�\n",
      "\n",
      "\n",
      " c:\\Users\\mathn\\Desktop\\Public_Data\\KDT-Public_Data\\DAY_04 ���͸�\n",
      "\n",
      "\n",
      " c:\\Users\\mathn\\Desktop\\Public_Data\\KDT-Public_Data\\DAY_04 ���͸�\n",
      "\n"
     ]
    },
    {
     "name": "stderr",
     "output_type": "stream",
     "text": [
      "������ ã�� �� �����ϴ�.\n"
     ]
    }
   ],
   "source": [
    "%ls # 현재 경로에 있는 파일들을 보여줌"
   ]
  },
  {
   "cell_type": "code",
   "execution_count": null,
   "metadata": {},
   "outputs": [],
   "source": []
  },
  {
   "cell_type": "code",
   "execution_count": null,
   "metadata": {},
   "outputs": [],
   "source": []
  }
 ],
 "metadata": {
  "kernelspec": {
   "display_name": "My_38",
   "language": "python",
   "name": "python3"
  },
  "language_info": {
   "codemirror_mode": {
    "name": "ipython",
    "version": 3
   },
   "file_extension": ".py",
   "mimetype": "text/x-python",
   "name": "python",
   "nbconvert_exporter": "python",
   "pygments_lexer": "ipython3",
   "version": "3.8.18"
  }
 },
 "nbformat": 4,
 "nbformat_minor": 2
}
