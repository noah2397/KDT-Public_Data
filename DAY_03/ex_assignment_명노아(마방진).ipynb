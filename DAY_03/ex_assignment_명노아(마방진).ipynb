{
 "cells": [
  {
   "cell_type": "code",
   "execution_count": 11,
   "metadata": {},
   "outputs": [
    {
     "name": "stdout",
     "output_type": "stream",
     "text": [
      "Magic Square (13X13)\n",
      "93 108 123 138 153 168  1 16 31 46 61 76 91 \n",
      "107 122 137 152 167 13 15 30 45 60 75 90 92 \n",
      "121 136 151 166 12 14 29 44 59 74 89 104 106 \n",
      "135 150 165 11 26 28 43 58 73 88 103 105 120 \n",
      "149 164 10 25 27 42 57 72 87 102 117 119 134 \n",
      "163  9 24 39 41 56 71 86 101 116 118 133 148 \n",
      " 8 23 38 40 55 70 85 100 115 130 132 147 162 \n",
      "22 37 52 54 69 84 99 114 129 131 146 161  7 \n",
      "36 51 53 68 83 98 113 128 143 145 160  6 21 \n",
      "50 65 67 82 97 112 127 142 144 159  5 20 35 \n",
      "64 66 81 96 111 126 141 156 158  4 19 34 49 \n",
      "78 80 95 110 125 140 155 157  3 18 33 48 63 \n",
      "79 94 109 124 139 154 169  2 17 32 47 62 77 \n"
     ]
    }
   ],
   "source": [
    "while True :\n",
    "    n=int(input(\"홀수차 배열의 크기를 입력하세요 : \"))\n",
    "    if n%2==1 :break\n",
    "    else : print(\"짝수를 입력하였습니다. 다시 입력하세요.\")\n",
    "print(f\"Magic Square ({n}X{n})\")\n",
    "y,x, y_old, x_old, i=0, int(n/2),0,0,1  # x,y축 변수 선언\n",
    "list=[[0]*n for _ in range(n)] \n",
    "while True :\n",
    "    flag1,flag2,flag3=1,1,1\n",
    "    if x >= n : \n",
    "        flag1, x=0,0        \n",
    "    if y == -1 : \n",
    "        flag2,y=0,n-1        \n",
    "    if x>=0 and x<n and y>=0 and y<n and list[y][x]!=0 :\n",
    "        flag3, y, x=0, y_old+1, x_old       \n",
    "    if flag1 and flag2 and flag3 :\n",
    "        list[y][x]=i # 시작 위치 : 첫 행의 가운데 열에서 시작함(y=0, x=중간)\n",
    "        y_old,x_old, x,y,i=y,x,x+1,y-1,i+1\n",
    "        if i==n*n+1 :break\n",
    "            \n",
    "for i in list :\n",
    "    for j in i :\n",
    "        print(f'{j:2}',end=' ')\n",
    "    print()\n"
   ]
  },
  {
   "cell_type": "code",
   "execution_count": null,
   "metadata": {},
   "outputs": [],
   "source": []
  },
  {
   "cell_type": "code",
   "execution_count": null,
   "metadata": {},
   "outputs": [],
   "source": []
  }
 ],
 "metadata": {
  "kernelspec": {
   "display_name": "My_38",
   "language": "python",
   "name": "python3"
  },
  "language_info": {
   "codemirror_mode": {
    "name": "ipython",
    "version": 3
   },
   "file_extension": ".py",
   "mimetype": "text/x-python",
   "name": "python",
   "nbconvert_exporter": "python",
   "pygments_lexer": "ipython3",
   "version": "3.8.18"
  }
 },
 "nbformat": 4,
 "nbformat_minor": 2
}
